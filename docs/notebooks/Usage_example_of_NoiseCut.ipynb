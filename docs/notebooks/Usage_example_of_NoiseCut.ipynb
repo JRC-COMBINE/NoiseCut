{
  "cells": [
    {
      "cell_type": "markdown",
      "metadata": {},
      "source": [
        "<!-- Author: Moein E. Samadi <moein.samadi@rwth-aachen.de> -->"
      ]
    },
    {
      "cell_type": "markdown",
      "metadata": {},
      "source": [
        "# Usage example of NoiseCut\n",
        "\n",
        "Here, we present a usage example of `NoiseCut` within the context of a binary classification task. To illustrate this, we employ a synthetic dataset that has been generated following the guidelines outlined in the `Generation_of_synthetic_data.ipynb` notebook."
      ]
    },
    {
      "cell_type": "code",
      "execution_count": 1,
      "metadata": {},
      "outputs": [],
      "source": [
        "import pandas as pd\n",
        "\n",
        "from noisecut.model.noisecut_coder import Metric\n",
        "from noisecut.model.noisecut_model import NoiseCut\n",
        "from noisecut.tree_structured.data_manipulator import DataManipulator"
      ]
    },
    {
      "cell_type": "markdown",
      "metadata": {},
      "source": [
        "### 1. Set training and test sets\n",
        "\n",
        "Assign `X` as the features and `Y` as the labels."
      ]
    },
    {
      "cell_type": "code",
      "execution_count": 2,
      "metadata": {},
      "outputs": [],
      "source": [
        "input_file = \"../data/7D_synthetic_data_manual\"\n",
        "\n",
        "data = pd.read_csv(\n",
        "    input_file,\n",
        "    delimiter=\"    \",\n",
        "    header=None,\n",
        "    skiprows=1,\n",
        "    engine=\"python\",\n",
        ")\n",
        "X = data.iloc[:, :-1]\n",
        "Y = data.iloc[:, -1]"
      ]
    },
    {
      "cell_type": "markdown",
      "metadata": {},
      "source": [
        "To randomly sample the training and test sets, you can use the build-in function of the `DataManipulator` class.\n",
        "If you also work with a synthetic dataset (like this example), you can also add noise to the labeling of the data by using `get_noisy_data` function of the `DataManipulator` class."
      ]
    },
    {
      "cell_type": "code",
      "execution_count": 3,
      "metadata": {},
      "outputs": [],
      "source": [
        "Training_set_size = 50  # The percentage of training set\n",
        "Noise_intencity = (\n",
        "    5  # The labels' percentage should be toggled from 0 to 1, or vice versa.\n",
        ")\n",
        "\n",
        "manipulator = DataManipulator()\n",
        "x_noisy, y_noisy = manipulator.get_noisy_data(\n",
        "    X,\n",
        "    Y,\n",
        "    percentage_noise=Noise_intencity,\n",
        ")\n",
        "x_train, y_train, x_test, y_test = manipulator.split_data(\n",
        "    x_noisy,\n",
        "    y_noisy,\n",
        "    percentage_training_data=Training_set_size,\n",
        ")"
      ]
    },
    {
      "cell_type": "markdown",
      "metadata": {},
      "source": [
        "### 2. Fitting the model\n",
        "\n",
        "To fit the training set into the hybrid model, you should use `NoiseCut` class. To instantiate an object of this class, you have to provide an array `n_input_each_box` as an input which is an indicator of the tree-structure of the hybrid model. First element of the `n_input_each_box` represents number of input features to the first-layer black boxes, which is `3` in the example of the synthetic data generated in the `Generation_of_synthetic_data.ipynb` notebook; second element represents number of input features to the second first-layer black boxes, which is `2` and it continues in this manner.\n",
        "\n",
        "To fit the training set into the hybrid model, utilize the `NoiseCut` class. To instantiate an object of this class, you'll need to provide an input array called `n_input_each_box`. This array serves as an indicator for the tree-structure of the hybrid model. The initial element of `n_input_each_box` corresponds to the number of input features for the  first black box in the first layer of the network, which is `3` in the example of the synthetic data generated in the `Generation_of_synthetic_data.ipynb` notebook; Subsequently, the second element signifies the number of input features for the second first-layer black box, which in this case is `2`. This pattern continues for the successive elements.\n",
        "\n",
        "\n",
        "Then, the model can be simply fitted by using `fit` function of the `NoiseCut` class."
      ]
    },
    {
      "cell_type": "code",
      "execution_count": 4,
      "metadata": {},
      "outputs": [],
      "source": [
        "mdl = NoiseCut(n_input_each_box=[3, 2, 2])\n",
        "mdl.fit(x_train, y_train)"
      ]
    },
    {
      "cell_type": "markdown",
      "metadata": {},
      "source": [
        "### 3. Evaluation\n",
        "\n",
        "The evaluation of the NoiseCut algorithm's performance can be conducted by utilizing the test set. This test set can be provided as input to the `predict` function within the `NoiseCut` class.\n",
        "\n",
        "To assess the model's performance, you can utilize the built-in function of the `Metric` class called `set_confusion_matrix`. This function enables you to establish the confusion matrix, thereby facilitating the computation of accuracy, recall, precision, and F1 score for the predicted output derived from the test dataset."
      ]
    },
    {
      "cell_type": "code",
      "execution_count": 5,
      "metadata": {},
      "outputs": [
        {
          "name": "stdout",
          "output_type": "stream",
          "text": [
            "accuracy = 0.922, recall = 0.902, precision = 0.974, F1 = 0.937\n"
          ]
        }
      ],
      "source": [
        "y_predicted = mdl.predict(x_test)\n",
        "\n",
        "accuracy, recall, precision, F1 = Metric.set_confusion_matrix(\n",
        "    y_test, y_predicted\n",
        ")\n",
        "\n",
        "print(\n",
        "    \"accuracy = {a:3.3f}, recall = {r:3.3f}, precision = {p:3.3f}, \"\n",
        "    \"F1 = {f:3.3f}\".format(a=accuracy, r=recall, p=precision, f=F1)\n",
        ")"
      ]
    },
    {
      "cell_type": "markdown",
      "metadata": {},
      "source": [
        "### 4. Predictions as probability\n",
        "\n",
        "The outcomes of the hybrid model can be obtained by calculating the probability of the label being `1` for any binary input fed into the model. This can be accomplished using the `predict_probability_of_being_1` function within the `NoiseCut` class.\n",
        "You can insert a single binary input or even more than one as an array of shape (n_sample, n_festures). If you insert more than one binary input, you receive an array of shape (n_samples,) of the probabilities in one-to-one mapping of the binary input. "
      ]
    },
    {
      "cell_type": "code",
      "execution_count": 6,
      "metadata": {},
      "outputs": [
        {
          "name": "stdout",
          "output_type": "stream",
          "text": [
            "Prediction probability for a binary input: 1.0\n",
            "Prediction probability for two binary inputs: [1.         0.93333333]\n"
          ]
        }
      ],
      "source": [
        "y_pred_proba = mdl.predict_probability_of_being_1([0, 0, 0, 0, 0, 0, 0])\n",
        "print(f\"Prediction probability for a binary input: {y_pred_proba}\")\n",
        "\n",
        "y_pred_proba = mdl.predict_probability_of_being_1(\n",
        "    [[0, 0, 0, 0, 0, 0, 0], [1, 0, 1, 0, 1, 0, 1]]\n",
        ")\n",
        "print(f\"Prediction probability for two binary inputs: {y_pred_proba}\")"
      ]
    },
    {
      "cell_type": "markdown",
      "metadata": {},
      "source": [
        "The `predict_probability_of_being_1` function can be applied to the complete test set in order to obtain the predicted probabilities. With these probabilities at hand, it becomes possible to calculate the area under the ROC curve."
      ]
    },
    {
      "cell_type": "code",
      "execution_count": 7,
      "metadata": {},
      "outputs": [
        {
          "name": "stdout",
          "output_type": "stream",
          "text": [
            "AUC-ROC= 0.9178154825026511\n"
          ]
        }
      ],
      "source": [
        "from sklearn import metrics  # noqa: E402\n",
        "\n",
        "y_pred_proba = mdl.predict_probability_of_being_1(x_test)\n",
        "fpr, tpr, thresholds = metrics.roc_curve(y_test.astype(int), y_pred_proba)\n",
        "print(\"AUC-ROC=\", metrics.auc(fpr, tpr))"
      ]
    },
    {
      "cell_type": "markdown",
      "metadata": {},
      "source": [
        "### 5. Retrieved functions of the black boxes\n",
        "\n",
        "After fitting model, the predicted binary function of first-layer black boxes can be taken by calling `get_binary_function_of_box` of the `NoiseCut` class. You have to give the ID of first-layer black box as an input which is a number in range `[0, n_box-1]`. \n",
        "Moreover, the predicted binary function of second-layer black box can be taken by calling `get_binary_function_black_box` of the `NoiseCut` class. It does not need any input as there is only one second-layer black box."
      ]
    },
    {
      "cell_type": "code",
      "execution_count": 8,
      "metadata": {},
      "outputs": [
        {
          "data": {
            "text/plain": [
              "array([False, False,  True,  True,  True, False,  True, False])"
            ]
          },
          "execution_count": 8,
          "metadata": {},
          "output_type": "execute_result"
        }
      ],
      "source": [
        "func_0 = mdl.get_binary_function_of_box(0)\n",
        "func_1 = mdl.get_binary_function_of_box(1)\n",
        "func_2 = mdl.get_binary_function_of_box(2)\n",
        "func_bb = mdl.get_binary_function_black_box()\n",
        "func_0"
      ]
    }
  ],
  "metadata": {
    "kernelspec": {
      "display_name": "Python 3 (ipykernel)",
      "language": "python",
      "name": "python3"
    },
    "language_info": {
      "codemirror_mode": {
        "name": "ipython",
        "version": 3
      },
      "file_extension": ".py",
      "mimetype": "text/x-python",
      "name": "python",
      "nbconvert_exporter": "python",
      "pygments_lexer": "ipython3",
      "version": "3.9.17"
    }
  },
  "nbformat": 4,
  "nbformat_minor": 4
}
