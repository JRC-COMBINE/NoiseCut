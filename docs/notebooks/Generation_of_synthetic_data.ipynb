{
  "cells": [
    {
      "cell_type": "markdown",
      "id": "9286944b",
      "metadata": {},
      "source": [
        "<!-- Author: Moein E. Samadi <moein.samadi@rwth-aachen.de> -->"
      ]
    },
    {
      "cell_type": "markdown",
      "id": "c4be76f0",
      "metadata": {},
      "source": [
        "# Synthetic data generation"
      ]
    },
    {
      "attachments": {},
      "cell_type": "markdown",
      "id": "e16dc7d5",
      "metadata": {},
      "source": [
        "We generated synthetic data sets to benchmark the binary classification performance of NoiseCut against other machine learning classifiers. \n",
        "Synthetic data sets were created such that the structure of the information flow from binary-represented input data $\\mathbf{x} \\in \\{0,1\\}^n$ to binary outputs or labels $y \\in \\{0,1\\}$ conforms to a tree-structured network, as illustrated the figure below:\n",
        "\n",
        "<p style=\"text-align: center\">\n",
        "  <img src=\"../artwork/Synthetic_data_structure.png\" width=\"500\" height=\"350\" align=\"center\">\n",
        "</p>\n",
        "\n",
        "Figure 1: A schematic representation of the information flow from binary represented input data to binary labels. This procedure has been used to generate the synthetic data."
      ]
    },
    {
      "cell_type": "markdown",
      "id": "4b519761",
      "metadata": {},
      "source": [
        "Figure 1 illustrates a simple example of the labeling procedure in the synthetic data sets. We assumed a tree-structured network $\\mathcal{F}: \\{0,1\\}^7 \\longmapsto  \\{0,1\\}$ mapping binary variables $\\mathbf{x}$ to binary labels $y$:\n",
        "\n",
        "$$\n",
        "    y  = \\mathcal{F}(X) \\;\\;,\\;\\; \\mathbf{x} \\in \\{0,1\\}^7 \\;\\;,\\;\\; y \\in \\{0,1\\}.\n",
        "$$\n",
        "\n",
        "In the nework of Figure 1, there are three first-layer boxes $\\mathrm{F_1}: \\{0,1\\}^3 \\longmapsto  \\{0,1\\}$, $\\mathrm{F_2}: \\{0,1\\}^2 \\longmapsto  \\{0,1\\}$, and $\\mathrm{F_3}: \\{0,1\\}^2 \\longmapsto  \\{0,1\\}$\u00a0that separately perform computations on subsets of input features. Here are the input/putput function of the first-layer boxes in Figure 1:\n",
        "\n",
        "$$\n",
        "    \\mathrm{F_1}: \\{000, 100, 010, 110, 001, 101, 011, 111\\} \\longmapsto \\{0, 0, 1, 1, 1, 0, 1, 0\\}, \\\\\n",
        "    \\mathrm{F_2}: \\{00, 10, 01, 11\\} \\longmapsto \\{1, 0, 1, 1\\}, \\\\\n",
        "    \\mathrm{F_3}: \\{00, 10, 01, 11\\} \\longmapsto \\{1, 1, 0, 0\\}.\n",
        "$$\n",
        "\n",
        "For instance, when we enter $\\mathbf{x}^\\prime = \\{0, 1, 0, 1, 0, 0, 1\\}$ to the network, the three first-layer boxes return $\\{1, 1, 1\\}$, which is then forwarded to the output-box $\\mathrm{F_O}: \\{0,1\\}^3 \\longmapsto  \\{0,1\\}$ with the following input/output function:\n",
        "$$\n",
        "    \\mathrm{F_O}: \\{000, 100, 010, 110, 001, 101, 011, 111\\} \\longmapsto \\{1, 0, 0, 0, 0, 1, 1, 0\\}.\n",
        "$$\n",
        "Finally, the output-box returns the generated label, here $y^\\prime=0$, for the entered input $\\mathbf{x}^\\prime$ to the network."
      ]
    },
    {
      "cell_type": "markdown",
      "id": "7fe83072",
      "metadata": {},
      "source": [
        "## Generating tree-structured data through randomly defined functions\n",
        "One can generate tree-structured synthetic data featuring an arbitrary number of first-layer boxes and an output-box by using NoiseCut. The functionality of each black box can be assigned randomly or manually determined.\n",
        "\n",
        "For the generation of a tree-structured synthetic dataset featuring interior black boxes with randomly allocated functions, one can seamlessly employ the `SampleGenerator` class.\n",
        "\n",
        "To instantiate an object of this class, you need to input an array which\n",
        "indicates the number of input features to each first-layer black box.\n",
        "The first element of the array represents the number of input features to the first black box, the second element represents the number of input features to the second black box, and the rest follows the same. The length of the array is also an indicator of the number of first-layer black boxes, which is `3` in the below example. If you set `allowance_rand=True`, all the functions are set randomly when the object is instantiated."
      ]
    },
    {
      "cell_type": "code",
      "execution_count": 1,
      "id": "f28663f1",
      "metadata": {},
      "outputs": [],
      "source": [
        "from noisecut.tree_structured.sample_generator import SampleGenerator\n",
        "\n",
        "gen_dataset = SampleGenerator([3, 2, 2], allowance_rand=True)"
      ]
    },
    {
      "cell_type": "markdown",
      "id": "c5aa84f7",
      "metadata": {},
      "source": [
        "To construct the dataset for the randomly generated model, simply invoke the `get_complete_data_set` function found within the `SampleGenerator` class."
      ]
    },
    {
      "cell_type": "code",
      "execution_count": 2,
      "id": "b107f41d",
      "metadata": {},
      "outputs": [],
      "source": [
        "x_gen_dataset, y_gen_dataset = gen_dataset.get_complete_data_set()"
      ]
    },
    {
      "cell_type": "markdown",
      "id": "d4e1ffcd",
      "metadata": {},
      "source": [
        "If you also call the `get_complete_data_set` function with an input, as a path to store the result, a file with the input name will be created in the path provided."
      ]
    },
    {
      "cell_type": "code",
      "execution_count": 3,
      "id": "04c6a27e",
      "metadata": {},
      "outputs": [
        {
          "name": "stdout",
          "output_type": "stream",
          "text": [
            "Generated binary labels: \n",
            " [1 1 1 0 1 0 1 1 1 1 1 0 1 0 1 1 1 1 1 1 1 1 1 1 1 1 1 1 1 1 1 1 0 0 0 1 0\n",
            " 1 0 0 0 0 0 1 0 1 0 0 1 1 1 0 1 0 1 1 1 1 1 0 1 0 1 1 1 1 1 0 1 0 1 1 1 1\n",
            " 1 0 1 0 1 1 1 1 1 1 1 1 1 1 1 1 1 1 1 1 1 1 0 0 0 1 0 1 0 0 0 0 0 1 0 1 0\n",
            " 0 1 1 1 0 1 0 1 1 1 1 1 0 1 0 1 1]\n"
          ]
        }
      ],
      "source": [
        "x_gen_dataset, y_gen_dataset = gen_dataset.get_complete_data_set(\n",
        "    file_name=\"../data/7D_synthetic_data_random\"\n",
        ")\n",
        "print(\"Generated binary labels:\", \"\\n\", y_gen_dataset.astype(int))"
      ]
    },
    {
      "cell_type": "markdown",
      "id": "546275c1",
      "metadata": {},
      "source": [
        "The randomly set binary function of first-layer black boxes can be taken by calling `get_binary_function_of_box` function of the `SampleGenerator` class. You have to give the ID of first-layer black box as an input which is a number in range `[0, n_box-1]`. \n",
        "Moreover, the randomly set binary function of the output-box can be taken by calling `get_binary_function_black_box` of the `SampleGenerator` class. It does not need any input as there is only one output-box in the nework."
      ]
    },
    {
      "cell_type": "code",
      "execution_count": 4,
      "id": "acbc1b92",
      "metadata": {},
      "outputs": [
        {
          "name": "stdout",
          "output_type": "stream",
          "text": [
            "The function of the output-box: \n",
            " [False  True  True False  True  True False  True]\n"
          ]
        }
      ],
      "source": [
        "func_0 = gen_dataset.get_binary_function_of_box(0)\n",
        "func_1 = gen_dataset.get_binary_function_of_box(1)\n",
        "func_2 = gen_dataset.get_binary_function_of_box(2)\n",
        "func_bb = gen_dataset.get_binary_function_black_box()\n",
        "print(\"The function of the output-box:\", \"\\n\", func_bb)"
      ]
    },
    {
      "cell_type": "markdown",
      "id": "084380ab",
      "metadata": {},
      "source": [
        "You can also obtain the functions of all the first-layer black boxes, along with the function of the output box, simultaneously, by invoking `gen_dataset.print_binary_function_model()`."
      ]
    },
    {
      "cell_type": "code",
      "execution_count": 5,
      "id": "6b9c2529",
      "metadata": {},
      "outputs": [
        {
          "name": "stdout",
          "output_type": "stream",
          "text": [
            "Function Box1\n",
            "([feature_1, feature_2, feature_3]: Binary Output) ->\n",
            "([0 0 0]: 1), ([1 0 0]: 1), ([0 1 0]: 1), ([1 1 0]: 0), ([0 0 1]: 1), ([1 0 1]: 0), ([0 1 1]: 1), ([1 1 1]: 1)\n",
            "Function Box2\n",
            "([feature_4, feature_5]: Binary Output) ->\n",
            "([0 0]: 1), ([1 0]: 1), ([0 1]: 0), ([1 1]: 0)\n",
            "Function Box3\n",
            "([feature_6, feature_7]: Binary Output) ->\n",
            "([0 0]: 1), ([1 0]: 0), ([0 1]: 1), ([1 1]: 0)\n",
            "Function Black Box\n",
            "([Output_box_1, Output_box_2, Output_box_3]: Binary Output) ->\n",
            "([0 0 0]: 0), ([1 0 0]: 1), ([0 1 0]: 1), ([1 1 0]: 0), ([0 0 1]: 1), ([1 0 1]: 1), ([0 1 1]: 0), ([1 1 1]: 1)\n"
          ]
        }
      ],
      "source": [
        "gen_dataset.print_binary_function_model()"
      ]
    },
    {
      "cell_type": "markdown",
      "id": "47e83d4c",
      "metadata": {},
      "source": [
        "## Generating  tree-structured data by setting functions manually\n",
        "\n",
        "In the same manner as random generating tree-structured data through randomly defined functions, after importing the `SampleGenerator` class with `allowance_rand=False`, you need to instantiate an object of the class."
      ]
    },
    {
      "cell_type": "code",
      "execution_count": 6,
      "id": "e504614f",
      "metadata": {},
      "outputs": [],
      "source": [
        "from noisecut.tree_structured.sample_generator import (  # noqa: E402\n",
        "    SampleGenerator,\n",
        ")\n",
        "\n",
        "gen_dataset = SampleGenerator([3, 2, 2], allowance_rand=False)"
      ]
    },
    {
      "cell_type": "markdown",
      "id": "4de05ebb",
      "metadata": {},
      "source": [
        "To set the functions manually, you can use the `set_binary_function_of_box` function of the `SampleGenerator` class. Input variables of the function are ID of the associated first-layer black box and the desired binary function of the box. In the example below, we generated the binary functions depicted in Figure 1."
      ]
    },
    {
      "cell_type": "code",
      "execution_count": 7,
      "id": "f458fc5d",
      "metadata": {},
      "outputs": [],
      "source": [
        "gen_dataset.set_binary_function_of_box(0, [0, 0, 1, 1, 1, 0, 1, 0])\n",
        "gen_dataset.set_binary_function_of_box(1, [1, 0, 1, 1])\n",
        "gen_dataset.set_binary_function_of_box(2, [1, 1, 0, 0])\n",
        "gen_dataset.set_binary_function_black_box([0, 0, 1, 1, 1, 0, 1, 0])"
      ]
    },
    {
      "cell_type": "markdown",
      "id": "e4689cea",
      "metadata": {},
      "source": [
        "After determining all functions of the black boxes, you can check whether your generated dataset doesn't provide an in vain black box in the network by calling `has_synthetic_example_functionality` function of the `SampleGenerator` class. If the function returns `Flase`, you might need to change the determined functions of the black boxes and check it again. This test will enable you to create a non-reducible tree-structured dataset by incorporating productive black boxes within the network."
      ]
    },
    {
      "cell_type": "code",
      "execution_count": 8,
      "id": "09d649c3",
      "metadata": {},
      "outputs": [
        {
          "data": {
            "text/plain": [
              "True"
            ]
          },
          "execution_count": 8,
          "metadata": {},
          "output_type": "execute_result"
        }
      ],
      "source": [
        "gen_dataset.has_synthetic_example_functionality()"
      ]
    },
    {
      "cell_type": "markdown",
      "id": "a64c1eb0",
      "metadata": {},
      "source": [
        "You can also get and store the compelete dataset in the same manner as it has been explained in the previous part."
      ]
    },
    {
      "cell_type": "code",
      "execution_count": 9,
      "id": "8e8bd7eb",
      "metadata": {},
      "outputs": [],
      "source": [
        "x_gen_dataset, y_gen_dataset = gen_dataset.get_complete_data_set()\n",
        "x_gen_dataset, y_gen_dataset = gen_dataset.get_complete_data_set(\n",
        "    file_name=\"../data/7D_synthetic_data_manual\"\n",
        ")"
      ]
    }
  ],
  "metadata": {
    "kernelspec": {
      "display_name": "Python 3 (ipykernel)",
      "language": "python",
      "name": "python3"
    },
    "language_info": {
      "codemirror_mode": {
        "name": "ipython",
        "version": 3
      },
      "file_extension": ".py",
      "mimetype": "text/x-python",
      "name": "python",
      "nbconvert_exporter": "python",
      "pygments_lexer": "ipython3",
      "version": "3.9.17"
    }
  },
  "nbformat": 4,
  "nbformat_minor": 5
}
