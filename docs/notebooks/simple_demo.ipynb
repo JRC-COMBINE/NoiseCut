{
  "cells": [
    {
      "cell_type": "code",
      "execution_count": 1,
      "metadata": {},
      "outputs": [],
      "source": [
        "from noisecut.model.noisecut_coder import Metric\n",
        "from noisecut.model.noisecut_model import NoiseCut\n",
        "from noisecut.tree_structured.data_manipulator import DataManipulator\n",
        "from noisecut.tree_structured.sample_generator import SampleGenerator\n",
        "\n",
        "# Synthetic data generation\n",
        "gen_dataset = SampleGenerator(\n",
        "    [4, 4, 4], allowance_rand=True\n",
        ")  # [4,4,4] determines the number of inputs to each black box of the FN model\n",
        "X, y = gen_dataset.get_complete_data_set()\n",
        "\n",
        "# Add noise in data labeling. Train and test set split.\n",
        "x_noisy, y_noisy = DataManipulator().get_noisy_data(X, y, percentage_noise=10)\n",
        "x_train, y_train, x_test, y_test = DataManipulator().split_data(\n",
        "    x_noisy, y_noisy, percentage_training_data=50\n",
        ")\n",
        "\n",
        "# Training\n",
        "mdl = NoiseCut(\n",
        "    n_input_each_box=[4, 4, 4]\n",
        ")  # 'n_input_each_box' should fit to the generated data\n",
        "mdl.fit(x_train, y_train)\n",
        "\n",
        "# Evaluation\n",
        "y_pred = mdl.predict(x_test)\n",
        "accuracy, recall, precision, F1 = Metric.set_confusion_matrix(y_test, y_pred)"
      ]
    }
  ],
  "metadata": {
    "kernelspec": {
      "display_name": "venv",
      "language": "python",
      "name": "python3"
    },
    "language_info": {
      "codemirror_mode": {
        "name": "ipython",
        "version": 3
      },
      "file_extension": ".py",
      "mimetype": "text/x-python",
      "name": "python",
      "nbconvert_exporter": "python",
      "pygments_lexer": "ipython3",
      "version": "3.9.17"
    },
    "orig_nbformat": 4
  },
  "nbformat": 4,
  "nbformat_minor": 2
}
