{
 "cells": [
  {
   "cell_type": "markdown",
   "metadata": {},
   "source": [
    "## Example Usage of NoiseCut Model\n",
    "\n",
    "To use `noisecut` in a project:\n",
    "\n",
    "### 1. Import NoiseCut Package"
   ]
  },
  {
   "cell_type": "code",
   "execution_count": 1,
   "metadata": {},
   "outputs": [],
   "source": [
    "import pandas as pd\n",
    "from noisecut.tree_structured.data_manipulator import DataManipulator\n",
    "\n",
    "from noisecut.model.noisecut_coder import Metric\n",
    "from noisecut.model.noisecut_model import NoiseCut"
   ]
  },
  {
   "cell_type": "markdown",
   "metadata": {},
   "source": [
    "### 2. Set Train and Test Data\n",
    "\n",
    "Assign `X` and `Y` of the dataset."
   ]
  },
  {
   "cell_type": "code",
   "execution_count": 2,
   "metadata": {},
   "outputs": [],
   "source": [
    "input_file = \"10D_example\"\n",
    "\n",
    "data = pd.read_csv(\n",
    "    input_file, delimiter=\"    \", header=None, skiprows=1, engine=\"python\"\n",
    ")\n",
    "X = data.iloc[:, :-1]\n",
    "Y = data.iloc[:, -1]"
   ]
  },
  {
   "cell_type": "markdown",
   "metadata": {},
   "source": [
    "To select the training and test dataset randomly, you can use the build-in function of the `DataManipulator` class.\n",
    "If you also work with a synthetic dataset (like this example), you can also make your dataset noisy by using `get_noisy_data` function of the `DataManipulator` class."
   ]
  },
  {
   "cell_type": "code",
   "execution_count": 3,
   "metadata": {},
   "outputs": [],
   "source": [
    "manipulator = DataManipulator()\n",
    "x_noisy, y_noisy = manipulator.get_noisy_data(X, Y, percentage_noise=0)\n",
    "x_train, y_train, x_test, y_test = manipulator.split_data(\n",
    "    x_noisy, y_noisy, percentage_training_data=20\n",
    ")"
   ]
  },
  {
   "cell_type": "markdown",
   "metadata": {},
   "source": [
    "### 3. Fit Model\n",
    "\n",
    "To fit the dataset into NoiseCut model, you should use `NoiseCut` class. To instantiate an object of this class, you have to provide an array `n_input_each_box` as an input which is an indicator of the tree-structure of the hybrid model. First element of the `n_input_each_box` represents number of input features to the first box of the first-layer black boxes, which is `2` in the below example; second element represents number of input features to the second box of the first-layer black boxes, which is `3` and it continues in this manner.\n",
    "\n",
    "Then, the model can be simply fitted by using `fit` function of the `NoiseCut` class."
   ]
  },
  {
   "cell_type": "code",
   "execution_count": 4,
   "metadata": {},
   "outputs": [],
   "source": [
    "mdl = NoiseCut(n_input_each_box=[2, 3, 1, 4])\n",
    "mdl.fit(x_train, y_train)"
   ]
  },
  {
   "cell_type": "markdown",
   "metadata": {},
   "source": [
    "### 4. Predict Test Data and Examine Performance\n",
    "\n",
    "The test dataset can be predicted by feeding test data as an input to the `predict` function of the `NoiseCut` class.\n",
    "\n",
    "To examine the performance of the model, you can use the build-in function of the `Metric` class which is `set_confusion_matrix` to set the confusion matrix to compute the accuracy, recall, precision, and F1 of the predicted output of the test dataset."
   ]
  },
  {
   "cell_type": "code",
   "execution_count": 5,
   "metadata": {},
   "outputs": [
    {
     "name": "stdout",
     "output_type": "stream",
     "text": [
      "accuracy = 1.000, recall = 1.000, precision = 1.000, F1 = 1.000\n"
     ]
    }
   ],
   "source": [
    "y_predicted = mdl.predict(x_test)\n",
    "\n",
    "accuracy, recall, precision, F1 = Metric.set_confusion_matrix(\n",
    "    y_test, y_predicted\n",
    ")\n",
    "\n",
    "print(\n",
    "    \"accuracy = {a:3.3f}, recall = {r:3.3f}, precision = {p:3.3f}, \"\n",
    "    \"F1 = {f:3.3f}\".format(a=accuracy, r=recall, p=precision, f=F1)\n",
    ")"
   ]
  },
  {
   "cell_type": "markdown",
   "metadata": {},
   "source": [
    "### 5. Useful Information about the Model\n",
    "\n",
    "#### 5.1. Functions of the Black Boxes\n",
    "\n",
    "After fitting model, the predicted binary function of first-layer black boxes can be taken by calling `get_binary_function_of_box` of the `NoiseCut` class. You have to give the ID of first-layer black box as an input which is a number in range `[0, n_box-1]`. \n",
    "Moreover, the predicted binary function of second-layer black box can be taken by calling `get_binary_function_black_box` of the `NoiseCut` class. It does not need any input as there is only one second-layer black box."
   ]
  },
  {
   "cell_type": "code",
   "execution_count": 6,
   "metadata": {},
   "outputs": [],
   "source": [
    "func_0 = mdl.get_binary_function_of_box(0)\n",
    "func_1 = mdl.get_binary_function_of_box(1)\n",
    "func_2 = mdl.get_binary_function_of_box(2)\n",
    "func_3 = mdl.get_binary_function_of_box(3)\n",
    "func_bb = mdl.get_binary_function_black_box()"
   ]
  },
  {
   "cell_type": "markdown",
   "metadata": {},
   "source": [
    "#### 5.2. Uncertaity Measure\n",
    "\n",
    "To get further insight, the 'probability of being 1' for each input binary of the model has been set based on the number of input training data which has a certain binary input to the 2nd-layer black box, based on the computed function of each 1st-layer black boxes, and a certain binary output(0 or 1); `set_uncertainty_measure` function provides you with such information. The printed result can be also written in a .cvs file format if you provide a path as an input for `set_uncertainty_measure` function.\n",
    "\n",
    "Note: It can be used as a tool for setting uncertainty of the predictions of the model.\n"
   ]
  },
  {
   "cell_type": "code",
   "execution_count": 7,
   "metadata": {},
   "outputs": [
    {
     "name": "stdout",
     "output_type": "stream",
     "text": [
      "Binary input black box, number of 0, number of 1\n",
      "[0 0 0 0], 10, 0, 0.0\n",
      "[1 0 0 0], 0, 3, 1.0\n",
      "[0 1 0 0], 17, 0, 0.0\n",
      "[1 1 0 0], 5, 0, 0.0\n",
      "[0 0 1 0], 9, 0, 0.0\n",
      "[1 0 1 0], 0, 4, 1.0\n",
      "[0 1 1 0], 12, 0, 0.0\n",
      "[1 1 1 0], 10, 0, 0.0\n",
      "[0 0 0 1], 0, 22, 1.0\n",
      "[1 0 0 1], 8, 0, 0.0\n",
      "[0 1 0 1], 29, 0, 0.0\n",
      "[1 1 0 1], 0, 8, 1.0\n",
      "[0 0 1 1], 16, 0, 0.0\n",
      "[1 0 1 1], 6, 0, 0.0\n",
      "[0 1 1 1], 0, 37, 1.0\n",
      "[1 1 1 1], 8, 0, 0.0\n"
     ]
    }
   ],
   "source": [
    "mdl.set_uncertainty_measure(file_path_result=\"result_noisecut\")"
   ]
  },
  {
   "cell_type": "markdown",
   "metadata": {},
   "source": [
    "#### 5.3. Pseudo-Boolean Function of the 2nd-layer Black Box\n",
    "\n",
    "You can also get the Pseudo-Boolean function of the 2nd-layer black box by calling `predict_pseudo_boolean_func_coef` function of the `NoiseCut` class. `X1`, `X2`, and `X3` in the printed output represent binary output of the first, second and third box of the 1st-layer black boxes to the 2nd-layer black box."
   ]
  },
  {
   "cell_type": "code",
   "execution_count": 8,
   "metadata": {},
   "outputs": [
    {
     "name": "stdout",
     "output_type": "stream",
     "text": [
      "The Boolean Function is:\n",
      "0.00 + 1.00 X1 + 0.00 X2 + 0.00 X3 + 1.00 X4 + -1.00 X1 X2 + 0.00 X1 X3 + -2.00 X1 X4 + -0.00 X2 X3 + -1.00 X2 X4 + -1.00 X3 X4 + -0.00 X1 X2 X3 + 3.00 X1 X2 X4 + 1.00 X1 X3 X4 + 2.00 X2 X3 X4 + -3.00 X1 X2 X3 X4 + \n"
     ]
    }
   ],
   "source": [
    "func_coef = mdl.predict_pseudo_boolean_func_coef()"
   ]
  },
  {
   "cell_type": "markdown",
   "metadata": {},
   "source": [
    "#### 5.4. Scoring\n",
    "\n",
    "To predict a score for any binary input to the model, you can use the `predict_score` function of the `NoiseCut` class. Except from the `x` input which is the set of binary input data that you aim to predict score for, you need to provide another array for the function which is called `vector_n_score`. `vector_n_score` is a measure for setting score based on the probability of being 1. Minimum possible value for the score is 1 and the maximum value depends on the length of `vector_n_score` array. For instance, when `vector_n_score = np.array([0, 0.2, 0.4, 0.6, 0.8, 1])`, it means that when probability is between 0 and 0.2, set the score to 1. When probability is between 0.2 and 0.4, set the score to 2 and it continues in this manner. `vector_n_score` should be sorted. After that, the first element of the array should be 0 and the last element of the array should be 1."
   ]
  },
  {
   "cell_type": "code",
   "execution_count": 9,
   "metadata": {},
   "outputs": [],
   "source": [
    "score_test = mdl.predict_score(\n",
    "    x=x_test, vector_n_score=[0, 0.2, 0.4, 0.6, 0.8, 1]\n",
    ")"
   ]
  },
  {
   "cell_type": "markdown",
   "metadata": {},
   "source": [
    "#### 5.5. Probability of Being One for Each Score\n",
    "\n",
    "To get the probability of being one for each score for the predicted output of the test data, you can use `predict_mortality_of_each_score` function. Length of the return array is an indicator of the maximum score; the first element of the output represents the probability of the test data with `score=1` to be one, the second element of the output represents the probability of the test data with `score=2` to be one and it continues in a same manner. If the returned output for a specific score is `-1`, it shows that there is not any data with this score in the binary input data `x`. "
   ]
  },
  {
   "cell_type": "code",
   "execution_count": 10,
   "metadata": {},
   "outputs": [
    {
     "name": "stdout",
     "output_type": "stream",
     "text": [
      "Score=1 is 0.00%\n",
      "Score=2: There is not any data which matches this score!\n",
      "Score=3: There is not any data which matches this score!\n",
      "Score=4: There is not any data which matches this score!\n",
      "Score=5 is 100.00%\n",
      "The output is: (array([  0.,  -1.,  -1.,  -1., 100.]), array([568,   0,   0,   0,   0]), array([  0,   0,   0,   0, 252]))\n"
     ]
    }
   ],
   "source": [
    "output = mdl.predict_mortality_of_each_score(\n",
    "    x_test=x_test,\n",
    "    y_test=y_test,\n",
    "    vector_n_score=[0, 0.2, 0.4, 0.6, 0.8, 1],\n",
    "    print_mortality=True,\n",
    ")\n",
    "print(f\"The output is: {output}\")"
   ]
  },
  {
   "cell_type": "markdown",
   "metadata": {},
   "source": [
    "#### 5.6. Probability of Being One\n",
    "\n",
    "To predict probability of being one for any binary input to the model, you can use `predict_probability_of_being_1` function of the `NoiseCut` class. You can insert a single binary input or even more than one as an array of shape (n_sample, n_festures). If you insert more than one binary input, you receive an array of shape (n_samples,) of the probabilities in one-to-one mapping of the binary input."
   ]
  },
  {
   "cell_type": "code",
   "execution_count": 11,
   "metadata": {},
   "outputs": [
    {
     "name": "stdout",
     "output_type": "stream",
     "text": [
      "Result of the single binary input: 0.0\n",
      "Result of two binary input: [0. 0.]\n"
     ]
    }
   ],
   "source": [
    "result = mdl.predict_probability_of_being_1([0, 0, 0, 0, 0, 0, 0, 0, 0, 0])\n",
    "print(f\"Result of the single binary input: {result}\")\n",
    "\n",
    "result = mdl.predict_probability_of_being_1(\n",
    "    [[0, 0, 0, 0, 0, 0, 0, 0, 0, 0], [1, 1, 1, 0, 1, 0, 0, 0, 1, 0]]\n",
    ")\n",
    "print(f\"Result of two binary input: {result}\")"
   ]
  },
  {
   "cell_type": "markdown",
   "metadata": {},
   "source": [
    "## Generation of Synthetic Dataset\n",
    "\n",
    "You can generate a Tree-structured dataset which has arbitrarily number of black boxes at the 1st-layer and only one black box at the 2nd-layer. Funtion of each black box can be set randomely or manually."
   ]
  },
  {
   "cell_type": "markdown",
   "metadata": {},
   "source": [
    "### Random generation of Tree-structured dataset\n",
    "\n",
    "To build a randomly generated dataset which has a tree-structured, you can use the `SampleGenerator` class. To instantiate an object of this class, you need to input an array which indicates the number of input features to each 1st-layer black boxes. First element of the array represents number of input features to the first black box of the 1st-layer black boxes, second element represents number of input features to the second black box of the 1st-layer black boxes, and the rest follows the same.\n",
    "Length of the array is also an indicator of the number of 1st-layer black boxes, which is `4` in the below example. If you set `allowance_rand=True`, all the functions are set randomly when the object is instantiated."
   ]
  },
  {
   "cell_type": "code",
   "execution_count": 12,
   "metadata": {},
   "outputs": [],
   "source": [
    "from noisecut.tree_structured.sample_generator import SampleGenerator  # noqa: E402\n",
    "\n",
    "gen_dataset = SampleGenerator([2, 3, 1, 4], allowance_rand=True)"
   ]
  },
  {
   "cell_type": "markdown",
   "metadata": {},
   "source": [
    "To build the dataset of the randomly generated model, you can call `get_complete_data_set` function of the `SampleGenerator` class."
   ]
  },
  {
   "cell_type": "code",
   "execution_count": 13,
   "metadata": {},
   "outputs": [],
   "source": [
    "x_gen_dataset, y_gen_dataset = gen_dataset.get_complete_data_set()"
   ]
  },
  {
   "cell_type": "markdown",
   "metadata": {},
   "source": [
    "If you also call the `get_complete_data_set` function with an input, as a path to store the result, a file with the input name will be created in the path provided."
   ]
  },
  {
   "cell_type": "code",
   "execution_count": 14,
   "metadata": {},
   "outputs": [
    {
     "data": {
      "text/plain": [
       "array([ True,  True,  True, ...,  True,  True,  True])"
      ]
     },
     "execution_count": 14,
     "metadata": {},
     "output_type": "execute_result"
    }
   ],
   "source": [
    "x_gen_dataset, y_gen_dataset = gen_dataset.get_complete_data_set(\n",
    "    file_name=\"10D_example\"\n",
    ")\n",
    "y_gen_dataset"
   ]
  },
  {
   "cell_type": "markdown",
   "metadata": {},
   "source": [
    "The randomly set binary function of first-layer black boxes can be taken by calling `get_binary_function_of_box` function of the `SampleGenerator` class. You have to give the ID of first-layer black box as an input which is a number in range `[0, n_box-1]`. \n",
    "Moreover, the randomly set binary function of second-layer black box can be taken by calling `get_binary_function_black_box` of the `SampleGenerator` class. It does not need any input as there is only one second-layer black box."
   ]
  },
  {
   "cell_type": "code",
   "execution_count": 15,
   "metadata": {},
   "outputs": [
    {
     "name": "stdout",
     "output_type": "stream",
     "text": [
      "Function Box1\n",
      "([feature_1, feature_2]: Binary Output) ->\n",
      "([0 0]: 1), ([1 0]: 1), ([0 1]: 0), ([1 1]: 0)\n",
      "Function Box2\n",
      "([feature_3, feature_4, feature_5]: Binary Output) ->\n",
      "([0 0 0]: 0), ([1 0 0]: 1), ([0 1 0]: 0), ([1 1 0]: 0), ([0 0 1]: 0), ([1 0 1]: 0), ([0 1 1]: 1), ([1 1 1]: 1)\n",
      "Function Box3\n",
      "([feature_6]: Binary Output) ->\n",
      "([0]: 0), ([1]: 1)\n",
      "Function Box4\n",
      "([feature_7, feature_8, feature_9, feature_10]: Binary Output) ->\n",
      "([0 0 0 0]: 1), ([1 0 0 0]: 0), ([0 1 0 0]: 0), ([1 1 0 0]: 0), ([0 0 1 0]: 0), ([1 0 1 0]: 1), ([0 1 1 0]: 1), ([1 1 1 0]: 1), ([0 0 0 1]: 0), ([1 0 0 1]: 1), ([0 1 0 1]: 0), ([1 1 0 1]: 0), ([0 0 1 1]: 0), ([1 0 1 1]: 1), ([0 1 1 1]: 1), ([1 1 1 1]: 1)\n",
      "Function Black Box\n",
      "([Output_box_1, Output_box_2, Output_box_3, Output_box_4]: Binary Output) ->\n",
      "([0 0 0 0]: 1), ([1 0 0 0]: 0), ([0 1 0 0]: 0), ([1 1 0 0]: 1), ([0 0 1 0]: 1), ([1 0 1 0]: 1), ([0 1 1 0]: 1), ([1 1 1 0]: 0), ([0 0 0 1]: 1), ([1 0 0 1]: 1), ([0 1 0 1]: 0), ([1 1 0 1]: 1), ([0 0 1 1]: 1), ([1 0 1 1]: 0), ([0 1 1 1]: 1), ([1 1 1 1]: 1)\n"
     ]
    }
   ],
   "source": [
    "func_0 = gen_dataset.get_binary_function_of_box(0)\n",
    "func_1 = gen_dataset.get_binary_function_of_box(1)\n",
    "func_2 = gen_dataset.get_binary_function_of_box(2)\n",
    "func_3 = gen_dataset.get_binary_function_of_box(3)\n",
    "func_bb = gen_dataset.get_binary_function_black_box()\n",
    "gen_dataset.print_binary_function_model()"
   ]
  },
  {
   "cell_type": "markdown",
   "metadata": {},
   "source": [
    "### Generation of Tree-structured dataset by Setting Functions Manually\n",
    "\n",
    "In the same manner as random generation of dataset, after importing the `SampleGenerator` class, you need to instantiate an object of the class."
   ]
  },
  {
   "cell_type": "code",
   "execution_count": 16,
   "metadata": {},
   "outputs": [],
   "source": [
    "from noisecut.tree_structured.sample_generator import SampleGenerator  # noqa: E402\n",
    "\n",
    "gen_dataset = SampleGenerator([2, 3, 1])"
   ]
  },
  {
   "cell_type": "markdown",
   "metadata": {},
   "source": [
    "To set the functions manually, you can use the `set_binary_function_of_box` function of the `SampleGenerator` class. Input variables of the function are ID of the 1st-layer black box and the binary function of the box."
   ]
  },
  {
   "cell_type": "code",
   "execution_count": 17,
   "metadata": {},
   "outputs": [],
   "source": [
    "gen_dataset.set_binary_function_of_box(0, [0, 0, 1, 0])\n",
    "gen_dataset.set_binary_function_of_box(1, [0, 0, 1, 1, 1, 1, 1, 0])\n",
    "gen_dataset.set_binary_function_of_box(2, [0, 1])\n",
    "gen_dataset.set_binary_function_black_box([1, 1, 0, 0, 1, 1, 1, 1])"
   ]
  },
  {
   "cell_type": "markdown",
   "metadata": {},
   "source": [
    "After setting all functions of the black boxes, you can check whether your dataset has functionality by calling `has_synthetic_example_functionality` function of the `SampleGenerator` class. If the generated dataset does not have functionality, you can change the functions of the black boxes and check it again."
   ]
  },
  {
   "cell_type": "code",
   "execution_count": 18,
   "metadata": {},
   "outputs": [
    {
     "data": {
      "text/plain": [
       "False"
      ]
     },
     "execution_count": 18,
     "metadata": {},
     "output_type": "execute_result"
    }
   ],
   "source": [
    "gen_dataset.has_synthetic_example_functionality()"
   ]
  },
  {
   "cell_type": "code",
   "execution_count": 19,
   "metadata": {},
   "outputs": [
    {
     "data": {
      "text/plain": [
       "True"
      ]
     },
     "execution_count": 19,
     "metadata": {},
     "output_type": "execute_result"
    }
   ],
   "source": [
    "gen_dataset.set_binary_function_of_box(0, [0, 0, 1, 1])\n",
    "gen_dataset.set_binary_function_of_box(1, [0, 0, 1, 1, 1, 1, 1, 0])\n",
    "gen_dataset.set_binary_function_of_box(2, [0, 1])\n",
    "gen_dataset.set_binary_function_black_box([0, 1, 0, 0, 1, 1, 0, 1])\n",
    "\n",
    "gen_dataset.has_synthetic_example_functionality()"
   ]
  },
  {
   "cell_type": "markdown",
   "metadata": {},
   "source": [
    "You can also get compelete dataset in the same manner as it has been explained in the previous part."
   ]
  },
  {
   "cell_type": "code",
   "execution_count": 20,
   "metadata": {},
   "outputs": [],
   "source": [
    "x_gen_dataset, y_gen_dataset = gen_dataset.get_complete_data_set()\n",
    "x_gen_dataset, y_gen_dataset = gen_dataset.get_complete_data_set(\n",
    "    file_name=\"6D_example\"\n",
    ")"
   ]
  }
 ],
 "metadata": {
  "kernelspec": {
   "display_name": "venv",
   "language": "python",
   "name": "python3"
  },
  "language_info": {
   "codemirror_mode": {
    "name": "ipython",
    "version": 3
   },
   "file_extension": ".py",
   "mimetype": "text/x-python",
   "name": "python",
   "nbconvert_exporter": "python",
   "pygments_lexer": "ipython3",
   "version": "3.9.17"
  }
 },
 "nbformat": 4,
 "nbformat_minor": 4
}
